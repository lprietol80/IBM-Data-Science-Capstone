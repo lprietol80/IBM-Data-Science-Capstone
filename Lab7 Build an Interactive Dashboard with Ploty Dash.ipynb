{
 "cells": [
  {
   "cell_type": "code",
   "execution_count": 1,
   "id": "3e8f5cc7",
   "metadata": {},
   "outputs": [
    {
     "name": "stdout",
     "output_type": "stream",
     "text": [
      "All done!\n"
     ]
    }
   ],
   "source": [
    "import pandas as pd\n",
    "import dash\n",
    "from dash import html\n",
    "from dash import dcc\n",
    "from dash.dependencies import Input, Output\n",
    "import plotly.express as px\n",
    "print(\"All done!\")"
   ]
  },
  {
   "cell_type": "code",
   "execution_count": 2,
   "id": "9b6714cf",
   "metadata": {},
   "outputs": [],
   "source": [
    "spacex_launch_dash= \"https://cf-courses-data.s3.us.cloud-object-storage.appdomain.cloud/IBM-DS0321EN-SkillsNetwork/datasets/spacex_launch_dash.csv\""
   ]
  },
  {
   "cell_type": "code",
   "execution_count": 3,
   "id": "d6a2e625",
   "metadata": {},
   "outputs": [],
   "source": [
    "spacex_df=pd.read_csv(spacex_launch_dash)\n",
    "max_payload= spacex_df[\"Payload Mass (kg)\"].max()\n",
    "min_payload= spacex_df[\"Payload Mass (kg)\"].min()"
   ]
  },
  {
   "cell_type": "code",
   "execution_count": null,
   "id": "6c460648",
   "metadata": {},
   "outputs": [
    {
     "name": "stdout",
     "output_type": "stream",
     "text": [
      "Dash is running on http://127.0.0.1:8050/\n",
      "\n",
      " * Serving Flask app \"__main__\" (lazy loading)\n",
      " * Environment: production\n",
      "\u001b[31m   WARNING: This is a development server. Do not use it in a production deployment.\u001b[0m\n",
      "\u001b[2m   Use a production WSGI server instead.\u001b[0m\n",
      " * Debug mode: off\n"
     ]
    },
    {
     "name": "stderr",
     "output_type": "stream",
     "text": [
      " * Running on http://127.0.0.1:8050/ (Press CTRL+C to quit)\n",
      "127.0.0.1 - - [20/Jul/2023 21:21:28] \"GET / HTTP/1.1\" 200 -\n",
      "127.0.0.1 - - [20/Jul/2023 21:21:28] \"GET /_dash-component-suites/dash/deps/polyfill@7.v2_9_3m1682962458.12.1.min.js HTTP/1.1\" 200 -\n",
      "127.0.0.1 - - [20/Jul/2023 21:21:28] \"GET /_dash-component-suites/dash/deps/prop-types@15.v2_9_3m1682962458.8.1.min.js HTTP/1.1\" 200 -\n",
      "127.0.0.1 - - [20/Jul/2023 21:21:28] \"GET /_dash-component-suites/dash/deps/react@16.v2_9_3m1682962458.14.0.min.js HTTP/1.1\" 200 -\n",
      "127.0.0.1 - - [20/Jul/2023 21:21:28] \"GET /_dash-component-suites/dash/deps/react-dom@16.v2_9_3m1682962458.14.0.min.js HTTP/1.1\" 200 -\n",
      "127.0.0.1 - - [20/Jul/2023 21:21:28] \"GET /_dash-component-suites/dash/dcc/dash_core_components-shared.v2_9_2m1682962458.js HTTP/1.1\" 200 -\n",
      "127.0.0.1 - - [20/Jul/2023 21:21:28] \"GET /_dash-component-suites/dash/dcc/dash_core_components.v2_9_2m1682962458.js HTTP/1.1\" 200 -\n",
      "127.0.0.1 - - [20/Jul/2023 21:21:28] \"GET /_dash-component-suites/dash/dash-renderer/build/dash_renderer.v2_9_3m1682962458.min.js HTTP/1.1\" 200 -\n",
      "127.0.0.1 - - [20/Jul/2023 21:21:28] \"GET /_dash-component-suites/dash/html/dash_html_components.v2_0_11m1682962458.min.js HTTP/1.1\" 200 -\n",
      "127.0.0.1 - - [20/Jul/2023 21:21:28] \"GET /_dash-component-suites/dash/dash_table/bundle.v5_2_4m1682962458.js HTTP/1.1\" 200 -\n",
      "127.0.0.1 - - [20/Jul/2023 21:21:29] \"GET /_dash-layout HTTP/1.1\" 200 -\n",
      "127.0.0.1 - - [20/Jul/2023 21:21:29] \"GET /_dash-dependencies HTTP/1.1\" 200 -\n",
      "127.0.0.1 - - [20/Jul/2023 21:21:29] \"GET /_favicon.ico?v=2.9.3 HTTP/1.1\" 200 -\n",
      "127.0.0.1 - - [20/Jul/2023 21:21:29] \"GET /_dash-component-suites/dash/dcc/async-dropdown.js HTTP/1.1\" 200 -\n",
      "127.0.0.1 - - [20/Jul/2023 21:21:29] \"GET /_dash-component-suites/dash/dcc/async-graph.js HTTP/1.1\" 200 -\n",
      "127.0.0.1 - - [20/Jul/2023 21:21:29] \"GET /_dash-component-suites/dash/dcc/async-slider.js HTTP/1.1\" 200 -\n",
      "127.0.0.1 - - [20/Jul/2023 21:21:29] \"GET /_dash-component-suites/dash/dcc/async-plotlyjs.js HTTP/1.1\" 200 -\n",
      "127.0.0.1 - - [20/Jul/2023 21:21:34] \"GET / HTTP/1.1\" 200 -\n",
      "127.0.0.1 - - [20/Jul/2023 21:21:35] \"POST /_dash-update-component HTTP/1.1\" 200 -\n",
      "127.0.0.1 - - [20/Jul/2023 21:21:35] \"POST /_dash-update-component HTTP/1.1\" 200 -\n"
     ]
    }
   ],
   "source": [
    "app=dash.Dash(__name__)\n",
    "\n",
    "# Create an app layout\n",
    "app.layout = html.Div(children=[html.H1('SpaceX Launch Records Dashboard',\n",
    "                                        style={'textAlign': 'center', 'color': '#503D36',\n",
    "                                               'font-size': 40}),\n",
    "                                # TASK 1: Add a dropdown list to enable Launch Site selection\n",
    "                                # The default select value is for ALL sites\n",
    "                                # dcc.Dropdown(id='site-dropdown',...)\n",
    "                                #resource: https://www.youtube.com/watch?v=UYH_dNSX1DM&list=PLh3I780jNsiSvpGtPucq4yusBXVt3SL2Q\n",
    "                                dcc.Dropdown(id='site-dropdown',\n",
    "                                             options=[\n",
    "                                                     {'label': 'All Sites', 'value': 'ALL'},\n",
    "                                                     {'label': 'CCAFS LC-40', 'value': 'CCAFS LC-40'},\n",
    "                                                     {'label': 'VAFB SLC-4E', 'value': 'VAFB SLC-4E'},\n",
    "                                                     {'label': 'KSC LC-39A', 'value': 'KSC LC-39A'},\n",
    "                                                     {'label': 'CCAFS SLC-40', 'value': 'CCAFS SLC-40'}\n",
    "                                                     ],\n",
    "                                             value='ALL',\n",
    "                                             placeholder='Select a Launch Site here',\n",
    "                                             searchable=True\n",
    "                                             # style={'width':'80%','padding':'3px','font-size':'20px','text-align-last':'center'}\n",
    "                                             ),\n",
    "                                html.Br(),\n",
    "\n",
    "                                # TASK 2: Add a pie chart to show the total successful launches count for all sites\n",
    "                                # If a specific launch site was selected, show the Success vs. Failed counts for the site\n",
    "                                html.Div(dcc.Graph(id='success-pie-chart')),\n",
    "                                html.Br(),\n",
    "\n",
    "                                html.P(\"Payload range (Kg):\"),\n",
    "                                # TASK 3: Add a slider to select payload range\n",
    "                                #dcc.RangeSlider(id='payload-slider',...)\n",
    "                                dcc.RangeSlider(id='payload-slider',\n",
    "                                                min=0,\n",
    "                                                max=10000,\n",
    "                                                step=1000,\n",
    "                                                value=[min_payload, max_payload]\n",
    "                                                ),\n",
    "\n",
    "                                # TASK 4: Add a scatter chart to show the correlation between payload and launch success\n",
    "                                html.Div(dcc.Graph(id='success-payload-scatter-chart')),\n",
    "                                ])\n",
    "# TASK 2:\n",
    "# Add a callback function for `site-dropdown` as input, `success-pie-chart` as output\n",
    "@app.callback(Output(component_id='success-pie-chart', component_property='figure'),\n",
    "              Input(component_id='site-dropdown', component_property='value'))\n",
    "def get_pie_chart(entered_site):\n",
    "    filtered_df = spacex_df\n",
    "    if entered_site == 'ALL':\n",
    "        fig = px.pie(filtered_df, values='class', \n",
    "        names='Launch Site', \n",
    "        title='Success Count for all launch sites')\n",
    "        return fig\n",
    "    else:\n",
    "        # return the outcomes piechart for a selected site\n",
    "        filtered_df=spacex_df[spacex_df['Launch Site']== entered_site]\n",
    "        filtered_df=filtered_df.groupby(['Launch Site','class']).size().reset_index(name='class count')\n",
    "        fig=px.pie(filtered_df,values='class count',names='class',title=f\"Total Success Launches for site {entered_site}\")\n",
    "        return fig\n",
    "\n",
    "# TASK 4:\n",
    "# Add a callback function for `site-dropdown` and `payload-slider` as inputs, `success-payload-scatter-chart` as output\n",
    "@app.callback(Output(component_id='success-payload-scatter-chart',component_property='figure'),\n",
    "                [Input(component_id='site-dropdown',component_property='value'),\n",
    "                Input(component_id='payload-slider',component_property='value')])\n",
    "def scatter(entered_site,payload):\n",
    "    filtered_df = spacex_df[spacex_df['Payload Mass (kg)'].between(payload[0],payload[1])]\n",
    "    # thought reusing filtered_df may cause issues, but tried it out of curiosity and it seems to be working fine\n",
    "    \n",
    "    if entered_site=='ALL':\n",
    "        fig=px.scatter(filtered_df,x='Payload Mass (kg)',y='class',color='Booster Version Category',title='Success count on Payload mass for all sites')\n",
    "        return fig\n",
    "    else:\n",
    "        fig=px.scatter(filtered_df[filtered_df['Launch Site']==entered_site],x='Payload Mass (kg)',y='class',color='Booster Version Category',title=f\"Success count on Payload mass for site {entered_site}\")\n",
    "        return fig\n",
    "\n",
    "# Run the app\n",
    "if __name__ == '__main__':\n",
    "    app.run_server()\n",
    "    #(mode='inline', host='localhost')\n",
    "\n"
   ]
  },
  {
   "cell_type": "code",
   "execution_count": null,
   "id": "4ecb6431",
   "metadata": {},
   "outputs": [],
   "source": []
  },
  {
   "cell_type": "code",
   "execution_count": null,
   "id": "cc080c16",
   "metadata": {},
   "outputs": [],
   "source": []
  }
 ],
 "metadata": {
  "kernelspec": {
   "display_name": "Python 3 (ipykernel)",
   "language": "python",
   "name": "python3"
  },
  "language_info": {
   "codemirror_mode": {
    "name": "ipython",
    "version": 3
   },
   "file_extension": ".py",
   "mimetype": "text/x-python",
   "name": "python",
   "nbconvert_exporter": "python",
   "pygments_lexer": "ipython3",
   "version": "3.9.13"
  }
 },
 "nbformat": 4,
 "nbformat_minor": 5
}
